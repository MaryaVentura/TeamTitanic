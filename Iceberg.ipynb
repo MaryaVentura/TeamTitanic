{
 "cells": [
  {
   "cell_type": "code",
   "execution_count": 1,
   "metadata": {
    "collapsed": true
   },
   "outputs": [],
   "source": [
    "import pandas as pd\n",
    "import numpy as np\n",
    "import matplotlib.pyplot as plt\n",
    "import seaborn as sns\n",
    "%matplotlib inline"
   ]
  },
  {
   "cell_type": "code",
   "execution_count": 2,
   "metadata": {},
   "outputs": [
    {
     "name": "stdout",
     "output_type": "stream",
     "text": [
      "/home/msadmin/courses/deeplearning1/nbs/data/iceberg\n"
     ]
    }
   ],
   "source": [
    "%cd  /home/msadmin/courses/deeplearning1/nbs/data/iceberg"
   ]
  },
  {
   "cell_type": "code",
   "execution_count": 3,
   "metadata": {
    "collapsed": true
   },
   "outputs": [],
   "source": [
    "#Create references to important directories we will use over and over\n",
    "import os, sys\n",
    "current_dir = os.getcwd()\n",
    "LESSON_HOME_DIR = current_dir\n",
    "DATA_HOME_DIR = current_dir + '/data/'"
   ]
  },
  {
   "cell_type": "code",
   "execution_count": 4,
   "metadata": {},
   "outputs": [
    {
     "name": "stderr",
     "output_type": "stream",
     "text": [
      "Using gpu device 0: Tesla K80 (CNMeM is disabled, cuDNN 5103)\n",
      "/home/msadmin/anaconda2/lib/python2.7/site-packages/theano/sandbox/cuda/__init__.py:600: UserWarning: Your cuDNN version is more recent than the one Theano officially supports. If you see any problems, try updating Theano or downgrading cuDNN to version 5.\n",
      "  warnings.warn(warn)\n",
      "Using Theano backend.\n"
     ]
    }
   ],
   "source": [
    "#Allow relative imports to directories above lesson1/\n",
    "sys.path.insert(1, os.path.join(sys.path[0], '..'))\n",
    "\n",
    "#import modules\n",
    "from utils import *\n",
    "from vgg16 import Vgg16\n",
    "\n",
    "#Instantiate plotting tool\n",
    "#In Jupyter notebooks, you will need to run this command before doing any plotting\n",
    "%matplotlib inline"
   ]
  },
  {
   "cell_type": "code",
   "execution_count": null,
   "metadata": {},
   "outputs": [],
   "source": [
    "#Create directories\n",
    "%cd $DATA_HOME_DIR\n",
    "%mkdir -p valid\n",
    "%mkdir -p results\n",
    "%mkdir -p train"
   ]
  },
  {
   "cell_type": "code",
   "execution_count": null,
   "metadata": {},
   "outputs": [],
   "source": [
    "#Divide iceberg/ship images into separate directories\n",
    "\n",
    "%cd $DATA_HOME_DIR/valid\n",
    "%mkdir -p iceberg\n",
    "%mkdir -p ship\n",
    "\n",
    "%cd $DATA_HOME_DIR/train\n",
    "%mkdir -p iceberg\n",
    "%mkdir -p ship"
   ]
  },
  {
   "cell_type": "code",
   "execution_count": 124,
   "metadata": {},
   "outputs": [
    {
     "name": "stdout",
     "output_type": "stream",
     "text": [
      "/home/msadmin/courses/deeplearning1/nbs/data/iceberg/data/processed\n"
     ]
    }
   ],
   "source": [
    "%cd $DATA_HOME_DIR/processed\n",
    "train_df = pd.read_json(\"train.json\")\n",
    "test_df = pd.read_json(\"test.json\")"
   ]
  },
  {
   "cell_type": "code",
   "execution_count": 120,
   "metadata": {},
   "outputs": [
    {
     "name": "stdout",
     "output_type": "stream",
     "text": [
      "/home/msadmin/courses/deeplearning1/nbs/data/iceberg/data/train\n"
     ]
    }
   ],
   "source": [
    "%cd $DATA_HOME_DIR/train"
   ]
  },
  {
   "cell_type": "code",
   "execution_count": 121,
   "metadata": {},
   "outputs": [
    {
     "data": {
      "text/plain": [
       "33696"
      ]
     },
     "execution_count": 121,
     "metadata": {},
     "output_type": "execute_result"
    }
   ],
   "source": [
    "test_df.size"
   ]
  },
  {
   "cell_type": "code",
   "execution_count": 122,
   "metadata": {
    "collapsed": true
   },
   "outputs": [],
   "source": [
    "def convert_to_jpg():\n",
    "    import cv2\n",
    "\n",
    "    # fig = plt.gcf()\n",
    "    print(\"train_df.size\",len(train_df))\n",
    "    for ix, row in train_df.iterrows():\n",
    "        img = np.array(row['band_1']).reshape((75, 75))\n",
    "\n",
    "        img2 = np.array(row['band_2']).reshape((75, 75))\n",
    "        img3 = img + img2\n",
    "        img3 -= img3.min()\n",
    "        img3 /= img3.max()\n",
    "        img3 *= 255\n",
    "        #plt.imshow(img3)\n",
    "        img3 = img3.astype(np.uint8)\n",
    "        if row['is_iceberg']==0:\n",
    "\n",
    "            cv2.imwrite(\"ship/f{}.png\".format(ix), img3)\n",
    "            # fig.savefig(\"../input/train/0/f{}.png\".format(ix), dpi=100)\n",
    "        elif row['is_iceberg']==1:\n",
    "            cv2.imwrite(\"iceberg/f{}.png\".format(ix), img3)"
   ]
  },
  {
   "cell_type": "code",
   "execution_count": 125,
   "metadata": {},
   "outputs": [
    {
     "name": "stdout",
     "output_type": "stream",
     "text": [
      "('train_df.size', 1604)\n"
     ]
    }
   ],
   "source": [
    "convert_to_jpg()"
   ]
  },
  {
   "cell_type": "code",
   "execution_count": 5,
   "metadata": {},
   "outputs": [
    {
     "name": "stdout",
     "output_type": "stream",
     "text": [
      "/home/msadmin/courses/deeplearning1/nbs/data/iceberg/data/processed\n"
     ]
    }
   ],
   "source": [
    "%cd $DATA_HOME_DIR/processed\n",
    "test_df = pd.read_json(\"test.json\")"
   ]
  },
  {
   "cell_type": "code",
   "execution_count": null,
   "metadata": {},
   "outputs": [],
   "source": [
    "%cd $DATA_HOME_DIR/test"
   ]
  },
  {
   "cell_type": "code",
   "execution_count": null,
   "metadata": {},
   "outputs": [],
   "source": [
    "test_df.head()"
   ]
  },
  {
   "cell_type": "code",
   "execution_count": 128,
   "metadata": {
    "collapsed": true
   },
   "outputs": [],
   "source": [
    "def convert_test_to_png():\n",
    "    import cv2\n",
    "\n",
    "    # fig = plt.gcf()\n",
    "    print(\"test_df.size\",len(test_df))\n",
    "    for ix, row in test_df.iterrows():\n",
    "        img = np.array(row['band_1']).reshape((75, 75))\n",
    "\n",
    "        img2 = np.array(row['band_2']).reshape((75, 75))\n",
    "        img3 = img + img2\n",
    "        img3 -= img3.min()\n",
    "        img3 /= img3.max()\n",
    "        img3 *= 255\n",
    "        plt.imshow(img3)\n",
    "        img3 = img3.astype(np.uint8)\n",
    "        img_name = row['id']\n",
    "        cv2.imwrite(\"unknown/\"+ img_name + \".png\" , img3)"
   ]
  },
  {
   "cell_type": "code",
   "execution_count": 152,
   "metadata": {
    "collapsed": true
   },
   "outputs": [],
   "source": [
    "def convert_single_to_png():\n",
    "    import cv2\n",
    "\n",
    "    # fig = plt.gcf()\n",
    "    #print(\"test_df.size\",len(test_df))\n",
    "    for ix, row in test_df[0:1].iterrows():\n",
    "        img = np.array(row['band_1']).reshape((75, 75))\n",
    "\n",
    "        img2 = np.array(row['band_2']).reshape((75, 75))\n",
    "        img3 = img + img2\n",
    "        img3 -= img3.min()\n",
    "        img3 /= img3.max()\n",
    "        img3 *= 255\n",
    "        \n",
    "        img3 = img3.astype(np.uint8)\n",
    "        img3 = ndimage.gaussian_filter(img3, sigma=3)\n",
    "        plt.imshow(img3)\n",
    "        img_name = row['id']\n",
    "        #cv2.imwrite(\"unknown/\"+ img_name + \".png\" , img3)"
   ]
  },
  {
   "cell_type": "code",
   "execution_count": 153,
   "metadata": {},
   "outputs": [
    {
     "data": {
      "image/png": "[encoded data removed]",
      "text/plain": [
       "<matplotlib.figure.Figure at 0x7f1ef05c5610>"
      ]
     },
     "metadata": {},
     "output_type": "display_data"
    }
   ],
   "source": [
    "#test_df[0:1]\n",
    "convert_single_to_png()\n",
    "#%mv *.png unknown/"
   ]
  },
  {
   "cell_type": "code",
   "execution_count": 149,
   "metadata": {
    "collapsed": true
   },
   "outputs": [],
   "source": [
    "?ndimage.gaussian_filter"
   ]
  },
  {
   "cell_type": "markdown",
   "metadata": {},
   "source": [
    "## Alternative to converting to png -"
   ]
  },
  {
   "cell_type": "code",
   "execution_count": null,
   "metadata": {
    "collapsed": true
   },
   "outputs": [],
   "source": [
    "X_band_1=np.array([np.array(band).astype(np.float32).reshape(75, 75) for band in train[\"band_1\"]])\n",
    "X_band_2=np.array([np.array(band).astype(np.float32).reshape(75, 75) for band in train[\"band_2\"]])\n",
    "X_band_3=(X_band_1+X_band_2)/2\n",
    "#X_band_3=np.array([np.full((75, 75), angel).astype(np.float32) for angel in train[\"inc_angle\"]])\n",
    "X_train = np.concatenate([X_band_1[:, :, :, np.newaxis]\n",
    "                          , X_band_2[:, :, :, np.newaxis]\n",
    "                         , X_band_3[:, :, :, np.newaxis]], axis=-1)\n"
   ]
  },
  {
   "cell_type": "code",
   "execution_count": null,
   "metadata": {
    "collapsed": true
   },
   "outputs": [],
   "source": [
    "X_band_test_1=np.array([np.array(band).astype(np.float32).reshape(75, 75) for band in test[\"band_1\"]])\n",
    "X_band_test_2=np.array([np.array(band).astype(np.float32).reshape(75, 75) for band in test[\"band_2\"]])\n",
    "X_band_test_3=(X_band_test_1+X_band_test_2)/2\n",
    "#X_band_test_3=np.array([np.full((75, 75), angel).astype(np.float32) for angel in test[\"inc_angle\"]])\n",
    "X_test = np.concatenate([X_band_test_1[:, :, :, np.newaxis]\n",
    "                          , X_band_test_2[:, :, :, np.newaxis]\n",
    "                         , X_band_test_3[:, :, :, np.newaxis]], axis=-1)\n"
   ]
  },
  {
   "cell_type": "code",
   "execution_count": null,
   "metadata": {},
   "outputs": [],
   "source": [
    "%cd $DATA_HOME_DIR/train/iceberg\n",
    "g = glob('*.png')\n",
    "shuf = np.random.permutation(g)\n",
    "for i in range(len(g)/3): os.rename(shuf[i], DATA_HOME_DIR+'/valid/iceberg/' + shuf[i])"
   ]
  },
  {
   "cell_type": "code",
   "execution_count": null,
   "metadata": {},
   "outputs": [],
   "source": [
    "%cd $DATA_HOME_DIR/train/ship\n",
    "g = glob('*.png')\n",
    "shuf = np.random.permutation(g)\n",
    "for i in range(len(g)/3): os.rename(shuf[i], DATA_HOME_DIR+'/valid/ship/' + shuf[i])"
   ]
  },
  {
   "cell_type": "markdown",
   "metadata": {},
   "source": [
    "## Setup batches"
   ]
  },
  {
   "cell_type": "code",
   "execution_count": null,
   "metadata": {
    "collapsed": true
   },
   "outputs": [],
   "source": [
    "train_df"
   ]
  },
  {
   "cell_type": "code",
   "execution_count": 6,
   "metadata": {
    "collapsed": true
   },
   "outputs": [],
   "source": [
    "batch_size=64"
   ]
  },
  {
   "cell_type": "code",
   "execution_count": 7,
   "metadata": {
    "scrolled": false
   },
   "outputs": [
    {
     "name": "stdout",
     "output_type": "stream",
     "text": [
      "Found 714 images belonging to 2 classes.\n",
      "Found 356 images belonging to 2 classes.\n"
     ]
    }
   ],
   "source": [
    "batches = get_batches(DATA_HOME_DIR+'train', batch_size=batch_size)\n",
    "val_batches = get_batches(DATA_HOME_DIR+'valid', batch_size=batch_size*2, shuffle=False)"
   ]
  },
  {
   "cell_type": "code",
   "execution_count": 8,
   "metadata": {},
   "outputs": [
    {
     "data": {
      "text/plain": [
       "keras.preprocessing.image.DirectoryIterator"
      ]
     },
     "execution_count": 8,
     "metadata": {},
     "output_type": "execute_result"
    }
   ],
   "source": [
    "type(batches)"
   ]
  },
  {
   "cell_type": "code",
   "execution_count": 9,
   "metadata": {},
   "outputs": [
    {
     "name": "stdout",
     "output_type": "stream",
     "text": [
      "Found 714 images belonging to 2 classes.\n",
      "Found 356 images belonging to 2 classes.\n",
      "Found 8424 images belonging to 1 classes.\n"
     ]
    }
   ],
   "source": [
    "(val_classes, trn_classes, val_labels, trn_labels, \n",
    "    val_filenames, filenames, test_filenames) = get_classes(DATA_HOME_DIR)"
   ]
  },
  {
   "cell_type": "markdown",
   "metadata": {},
   "source": [
    "## Single conv layer"
   ]
  },
  {
   "cell_type": "code",
   "execution_count": 10,
   "metadata": {
    "collapsed": true
   },
   "outputs": [],
   "source": [
    "def conv1(batches, ep, lr):\n",
    "    model = Sequential([\n",
    "            BatchNormalization(axis=1, input_shape=(3, 224, 224)),\n",
    "            Convolution2D(32,3,3, activation='relu'),\n",
    "            BatchNormalization(axis=1),\n",
    "            MaxPooling2D((3,3)),\n",
    "            Convolution2D(64,3,3, activation='relu'),\n",
    "            BatchNormalization(axis=1),\n",
    "            MaxPooling2D((3,3)),\n",
    "            Flatten(),\n",
    "            Dense(200, activation='relu'),\n",
    "            BatchNormalization(),\n",
    "            Dense(2, activation='softmax')\n",
    "        ])\n",
    "\n",
    "    model.compile(Adam(lr=1e-4), loss='categorical_crossentropy', metrics=['accuracy'])\n",
    "    model.optimizer.lr = lr\n",
    "    model.fit_generator(batches, batches.nb_sample, nb_epoch=ep, validation_data=val_batches, \n",
    "                     nb_val_samples=val_batches.nb_sample)\n",
    "    return model"
   ]
  },
  {
   "cell_type": "code",
   "execution_count": 11,
   "metadata": {
    "scrolled": true
   },
   "outputs": [
    {
     "name": "stdout",
     "output_type": "stream",
     "text": [
      "Epoch 1/5\n",
      "714/714 [==============================] - 16s - loss: 1.4224 - acc: 0.6092 - val_loss: 4.6450 - val_acc: 0.5197\n",
      "Epoch 2/5\n",
      "714/714 [==============================] - 15s - loss: 0.5062 - acc: 0.7577 - val_loss: 5.6145 - val_acc: 0.4410\n",
      "Epoch 3/5\n",
      "714/714 [==============================] - 16s - loss: 0.3990 - acc: 0.8067 - val_loss: 4.4337 - val_acc: 0.4691\n",
      "Epoch 4/5\n",
      "714/714 [==============================] - 16s - loss: 0.3360 - acc: 0.8389 - val_loss: 4.7505 - val_acc: 0.4719\n",
      "Epoch 5/5\n",
      "714/714 [==============================] - 16s - loss: 0.3049 - acc: 0.8571 - val_loss: 3.9861 - val_acc: 0.4775\n"
     ]
    }
   ],
   "source": [
    "model = conv1(batches, 5, 0.01)"
   ]
  },
  {
   "cell_type": "code",
   "execution_count": 12,
   "metadata": {
    "scrolled": true
   },
   "outputs": [
    {
     "name": "stdout",
     "output_type": "stream",
     "text": [
      "Epoch 1/5\n",
      "714/714 [==============================] - 16s - loss: 1.1794 - acc: 0.7171 - val_loss: 8.2849 - val_acc: 0.4691\n",
      "Epoch 2/5\n",
      "714/714 [==============================] - 16s - loss: 0.4177 - acc: 0.8235 - val_loss: 1.1919 - val_acc: 0.4663\n",
      "Epoch 3/5\n",
      "714/714 [==============================] - 16s - loss: 0.3182 - acc: 0.8641 - val_loss: 1.7427 - val_acc: 0.4691\n",
      "Epoch 4/5\n",
      "714/714 [==============================] - 15s - loss: 0.2147 - acc: 0.9272 - val_loss: 1.0923 - val_acc: 0.5365\n",
      "Epoch 5/5\n",
      "714/714 [==============================] - 16s - loss: 0.1539 - acc: 0.9552 - val_loss: 0.6296 - val_acc: 0.7275\n"
     ]
    }
   ],
   "source": [
    "#cnmem=.75\n",
    "model = conv1(batches, 5, 0.001)"
   ]
  },
  {
   "cell_type": "code",
   "execution_count": 13,
   "metadata": {
    "scrolled": true
   },
   "outputs": [
    {
     "name": "stdout",
     "output_type": "stream",
     "text": [
      "Epoch 1/5\n",
      "714/714 [==============================] - 17s - loss: 0.7464 - acc: 0.7395 - val_loss: 2.9751 - val_acc: 0.4691\n",
      "Epoch 2/5\n",
      "714/714 [==============================] - 15s - loss: 0.3721 - acc: 0.8515 - val_loss: 0.7921 - val_acc: 0.5365\n",
      "Epoch 3/5\n",
      "714/714 [==============================] - 16s - loss: 0.1929 - acc: 0.9426 - val_loss: 0.8997 - val_acc: 0.5393\n",
      "Epoch 4/5\n",
      "714/714 [==============================] - 16s - loss: 0.1167 - acc: 0.9818 - val_loss: 0.9385 - val_acc: 0.5309\n",
      "Epoch 5/5\n",
      "714/714 [==============================] - 16s - loss: 0.0711 - acc: 0.9916 - val_loss: 1.3817 - val_acc: 0.5309\n"
     ]
    }
   ],
   "source": [
    "model = conv1(batches, 5, 0.0001)"
   ]
  },
  {
   "cell_type": "code",
   "execution_count": 17,
   "metadata": {
    "scrolled": true
   },
   "outputs": [
    {
     "name": "stdout",
     "output_type": "stream",
     "text": [
      "Epoch 1/10\n",
      "714/714 [==============================] - 17s - loss: 0.7367 - acc: 0.6821 - val_loss: 0.7350 - val_acc: 0.5140\n",
      "Epoch 2/10\n",
      "714/714 [==============================] - 15s - loss: 0.5066 - acc: 0.7689 - val_loss: 0.6735 - val_acc: 0.5730\n",
      "Epoch 3/10\n",
      "714/714 [==============================] - 16s - loss: 0.3403 - acc: 0.8403 - val_loss: 0.6728 - val_acc: 0.5702\n",
      "Epoch 4/10\n",
      "714/714 [==============================] - 16s - loss: 0.2536 - acc: 0.9006 - val_loss: 0.7166 - val_acc: 0.5337\n",
      "Epoch 5/10\n",
      "714/714 [==============================] - 16s - loss: 0.1989 - acc: 0.9468 - val_loss: 0.6582 - val_acc: 0.5787\n",
      "Epoch 6/10\n",
      "714/714 [==============================] - 17s - loss: 0.1846 - acc: 0.9370 - val_loss: 0.7628 - val_acc: 0.5309\n",
      "Epoch 7/10\n",
      "714/714 [==============================] - 17s - loss: 0.1277 - acc: 0.9832 - val_loss: 0.7112 - val_acc: 0.5365\n",
      "Epoch 8/10\n",
      "714/714 [==============================] - 16s - loss: 0.1035 - acc: 0.9902 - val_loss: 0.6859 - val_acc: 0.5393\n",
      "Epoch 9/10\n",
      "714/714 [==============================] - 16s - loss: 0.0890 - acc: 0.9916 - val_loss: 0.7082 - val_acc: 0.5449\n",
      "Epoch 10/10\n",
      "714/714 [==============================] - 16s - loss: 0.0802 - acc: 0.9930 - val_loss: 0.6804 - val_acc: 0.5590\n"
     ]
    }
   ],
   "source": [
    "model = conv1(batches, 10, 0.00001)"
   ]
  },
  {
   "cell_type": "code",
   "execution_count": 15,
   "metadata": {},
   "outputs": [
    {
     "name": "stdout",
     "output_type": "stream",
     "text": [
      "Epoch 1/5\n",
      "714/714 [==============================] - 16s - loss: 0.7739 - acc: 0.6415 - val_loss: 1.9265 - val_acc: 0.5309\n",
      "Epoch 2/5\n",
      "714/714 [==============================] - 16s - loss: 0.7758 - acc: 0.6471 - val_loss: 1.4214 - val_acc: 0.5281\n",
      "Epoch 3/5\n",
      "714/714 [==============================] - 16s - loss: 0.6558 - acc: 0.6905 - val_loss: 1.2920 - val_acc: 0.5281\n",
      "Epoch 4/5\n",
      "714/714 [==============================] - 16s - loss: 0.5884 - acc: 0.7129 - val_loss: 1.1416 - val_acc: 0.5197\n",
      "Epoch 5/5\n",
      "714/714 [==============================] - 16s - loss: 0.6144 - acc: 0.7129 - val_loss: 1.0591 - val_acc: 0.5197\n"
     ]
    }
   ],
   "source": [
    "model = conv1(batches, 5, 0.000001)"
   ]
  },
  {
   "cell_type": "code",
   "execution_count": 16,
   "metadata": {},
   "outputs": [
    {
     "name": "stdout",
     "output_type": "stream",
     "text": [
      "____________________________________________________________________________________________________\n",
      "Layer (type)                     Output Shape          Param #     Connected to                     \n",
      "====================================================================================================\n",
      "batchnormalization_17 (BatchNorm (None, 3, 224, 224)   12          batchnormalization_input_5[0][0] \n",
      "____________________________________________________________________________________________________\n",
      "convolution2d_9 (Convolution2D)  (None, 32, 222, 222)  896         batchnormalization_17[0][0]      \n",
      "____________________________________________________________________________________________________\n",
      "batchnormalization_18 (BatchNorm (None, 32, 222, 222)  128         convolution2d_9[0][0]            \n",
      "____________________________________________________________________________________________________\n",
      "maxpooling2d_9 (MaxPooling2D)    (None, 32, 74, 74)    0           batchnormalization_18[0][0]      \n",
      "____________________________________________________________________________________________________\n",
      "convolution2d_10 (Convolution2D) (None, 64, 72, 72)    18496       maxpooling2d_9[0][0]             \n",
      "____________________________________________________________________________________________________\n",
      "batchnormalization_19 (BatchNorm (None, 64, 72, 72)    256         convolution2d_10[0][0]           \n",
      "____________________________________________________________________________________________________\n",
      "maxpooling2d_10 (MaxPooling2D)   (None, 64, 24, 24)    0           batchnormalization_19[0][0]      \n",
      "____________________________________________________________________________________________________\n",
      "flatten_5 (Flatten)              (None, 36864)         0           maxpooling2d_10[0][0]            \n",
      "____________________________________________________________________________________________________\n",
      "dense_9 (Dense)                  (None, 200)           7373000     flatten_5[0][0]                  \n",
      "____________________________________________________________________________________________________\n",
      "batchnormalization_20 (BatchNorm (None, 200)           800         dense_9[0][0]                    \n",
      "____________________________________________________________________________________________________\n",
      "dense_10 (Dense)                 (None, 2)             402         batchnormalization_20[0][0]      \n",
      "====================================================================================================\n",
      "Total params: 7,393,990\n",
      "Trainable params: 7,393,392\n",
      "Non-trainable params: 598\n",
      "____________________________________________________________________________________________________\n"
     ]
    }
   ],
   "source": [
    "model.summary()"
   ]
  },
  {
   "cell_type": "markdown",
   "metadata": {},
   "source": [
    "## Data augmentation"
   ]
  },
  {
   "cell_type": "code",
   "execution_count": 28,
   "metadata": {
    "collapsed": true
   },
   "outputs": [],
   "source": [
    "?image.ImageDataGenerator"
   ]
  },
  {
   "cell_type": "code",
   "execution_count": null,
   "metadata": {
    "collapsed": true
   },
   "outputs": [],
   "source": [
    "gen_t = image.ImageDataGenerator(rotation_range=15, height_shift_range=0.05, \n",
    "                shear_range=0.1, channel_shift_range=20, width_shift_range=0.1)\n",
    "batches = get_batches(DATA_HOME_DIR+'train', gen_t, batch_size=batch_size)"
   ]
  },
  {
   "cell_type": "code",
   "execution_count": 118,
   "metadata": {
    "collapsed": true
   },
   "outputs": [],
   "source": [
    "?image.ImageDataGenerator"
   ]
  },
  {
   "cell_type": "code",
   "execution_count": 30,
   "metadata": {
    "scrolled": true
   },
   "outputs": [
    {
     "name": "stdout",
     "output_type": "stream",
     "text": [
      "Found 714 images belonging to 2 classes.\n",
      "Epoch 1/10\n",
      "714/714 [==============================] - 25s - loss: 0.6106 - acc: 0.7745 - val_loss: 0.7464 - val_acc: 0.6039\n",
      "Epoch 2/10\n",
      "714/714 [==============================] - 25s - loss: 0.6092 - acc: 0.7773 - val_loss: 0.7544 - val_acc: 0.6236\n",
      "Epoch 3/10\n",
      "714/714 [==============================] - 26s - loss: 0.6140 - acc: 0.7647 - val_loss: 0.7691 - val_acc: 0.6124\n",
      "Epoch 4/10\n",
      "714/714 [==============================] - 25s - loss: 0.6587 - acc: 0.7661 - val_loss: 0.7114 - val_acc: 0.6685\n",
      "Epoch 5/10\n",
      "714/714 [==============================] - 26s - loss: 0.6066 - acc: 0.7717 - val_loss: 0.6766 - val_acc: 0.6742\n",
      "Epoch 6/10\n",
      "714/714 [==============================] - 26s - loss: 0.5535 - acc: 0.7689 - val_loss: 0.6374 - val_acc: 0.6938\n",
      "Epoch 7/10\n",
      "714/714 [==============================] - 26s - loss: 0.5812 - acc: 0.7815 - val_loss: 0.6181 - val_acc: 0.7107\n",
      "Epoch 8/10\n",
      "714/714 [==============================] - 26s - loss: 0.5366 - acc: 0.8011 - val_loss: 0.6404 - val_acc: 0.6938\n",
      "Epoch 9/10\n",
      "714/714 [==============================] - 26s - loss: 0.5000 - acc: 0.7941 - val_loss: 0.6380 - val_acc: 0.6798\n",
      "Epoch 10/10\n",
      "714/714 [==============================] - 26s - loss: 0.5581 - acc: 0.7773 - val_loss: 0.6446 - val_acc: 0.6966\n"
     ]
    },
    {
     "data": {
      "text/plain": [
       "<keras.callbacks.History at 0x7f1f0dc120d0>"
      ]
     },
     "execution_count": 30,
     "metadata": {},
     "output_type": "execute_result"
    }
   ],
   "source": [
    "gen_t = image.ImageDataGenerator(rotation_range=15)\n",
    "model.optimizer.lr=0.00001\n",
    "batches = get_batches(DATA_HOME_DIR+'train', gen_t, batch_size=batch_size)\n",
    "model.fit_generator(batches, batches.nb_sample, nb_epoch=5, validation_data=val_batches, \n",
    "                 nb_val_samples=val_batches.nb_sample)"
   ]
  },
  {
   "cell_type": "code",
   "execution_count": 31,
   "metadata": {},
   "outputs": [
    {
     "name": "stdout",
     "output_type": "stream",
     "text": [
      "Found 714 images belonging to 2 classes.\n",
      "Epoch 1/5\n",
      "714/714 [==============================] - 26s - loss: 0.4202 - acc: 0.8347 - val_loss: 0.5934 - val_acc: 0.7135\n",
      "Epoch 2/5\n",
      "714/714 [==============================] - 26s - loss: 0.4365 - acc: 0.8459 - val_loss: 0.5942 - val_acc: 0.7275\n",
      "Epoch 3/5\n",
      "714/714 [==============================] - 25s - loss: 0.4133 - acc: 0.8403 - val_loss: 0.5998 - val_acc: 0.7275\n",
      "Epoch 4/5\n",
      "714/714 [==============================] - 26s - loss: 0.4366 - acc: 0.8347 - val_loss: 0.5673 - val_acc: 0.7303\n",
      "Epoch 5/5\n",
      "714/714 [==============================] - 26s - loss: 0.4557 - acc: 0.8333 - val_loss: 0.5450 - val_acc: 0.7500\n"
     ]
    },
    {
     "data": {
      "text/plain": [
       "<keras.callbacks.History at 0x7f1f018f14d0>"
      ]
     },
     "execution_count": 31,
     "metadata": {},
     "output_type": "execute_result"
    }
   ],
   "source": [
    "gen_t = image.ImageDataGenerator(rotation_range=5)\n",
    "model.optimizer.lr=0.00001\n",
    "batches = get_batches(DATA_HOME_DIR+'train', gen_t, batch_size=batch_size)\n",
    "model.fit_generator(batches, batches.nb_sample, nb_epoch=5, validation_data=val_batches, \n",
    "                 nb_val_samples=val_batches.nb_sample)"
   ]
  },
  {
   "cell_type": "code",
   "execution_count": 32,
   "metadata": {},
   "outputs": [
    {
     "name": "stdout",
     "output_type": "stream",
     "text": [
      "Found 714 images belonging to 2 classes.\n",
      "Epoch 1/5\n",
      "714/714 [==============================] - 26s - loss: 0.4926 - acc: 0.8095 - val_loss: 0.5251 - val_acc: 0.7612\n",
      "Epoch 2/5\n",
      "714/714 [==============================] - 25s - loss: 0.3951 - acc: 0.8571 - val_loss: 0.5050 - val_acc: 0.7781\n",
      "Epoch 3/5\n",
      "714/714 [==============================] - 25s - loss: 0.4532 - acc: 0.8235 - val_loss: 0.4841 - val_acc: 0.7725\n",
      "Epoch 4/5\n",
      "714/714 [==============================] - 26s - loss: 0.3752 - acc: 0.8445 - val_loss: 0.4730 - val_acc: 0.7893\n",
      "Epoch 5/5\n",
      "714/714 [==============================] - 26s - loss: 0.4341 - acc: 0.8347 - val_loss: 0.4798 - val_acc: 0.7893\n"
     ]
    },
    {
     "data": {
      "text/plain": [
       "<keras.callbacks.History at 0x7f1f018f1390>"
      ]
     },
     "execution_count": 32,
     "metadata": {},
     "output_type": "execute_result"
    }
   ],
   "source": [
    "gen_t = image.ImageDataGenerator(rotation_range=10)\n",
    "model.optimizer.lr=0.00001\n",
    "batches = get_batches(DATA_HOME_DIR+'train', gen_t, batch_size=batch_size)\n",
    "model.fit_generator(batches, batches.nb_sample, nb_epoch=5, validation_data=val_batches, \n",
    "                 nb_val_samples=val_batches.nb_sample)"
   ]
  },
  {
   "cell_type": "code",
   "execution_count": 34,
   "metadata": {},
   "outputs": [
    {
     "name": "stdout",
     "output_type": "stream",
     "text": [
      "Found 714 images belonging to 2 classes.\n",
      "Epoch 1/5\n",
      "714/714 [==============================] - 26s - loss: 0.5543 - acc: 0.7815 - val_loss: 0.4400 - val_acc: 0.7949\n",
      "Epoch 2/5\n",
      "714/714 [==============================] - 26s - loss: 0.5506 - acc: 0.7871 - val_loss: 0.4282 - val_acc: 0.8062\n",
      "Epoch 3/5\n",
      "714/714 [==============================] - 26s - loss: 0.5445 - acc: 0.7885 - val_loss: 0.4301 - val_acc: 0.8090\n",
      "Epoch 4/5\n",
      "714/714 [==============================] - 25s - loss: 0.4526 - acc: 0.8249 - val_loss: 0.4618 - val_acc: 0.7781\n",
      "Epoch 5/5\n",
      "714/714 [==============================] - 26s - loss: 0.4598 - acc: 0.8305 - val_loss: 0.4455 - val_acc: 0.8118\n"
     ]
    },
    {
     "data": {
      "text/plain": [
       "<keras.callbacks.History at 0x7f1f0dc34550>"
      ]
     },
     "execution_count": 34,
     "metadata": {},
     "output_type": "execute_result"
    }
   ],
   "source": [
    "gen_t = image.ImageDataGenerator(rotation_range=25)\n",
    "model.optimizer.lr=0.00001\n",
    "batches = get_batches(DATA_HOME_DIR+'train', gen_t, batch_size=batch_size)\n",
    "model.fit_generator(batches, batches.nb_sample, nb_epoch=5, validation_data=val_batches, \n",
    "                 nb_val_samples=val_batches.nb_sample)"
   ]
  },
  {
   "cell_type": "code",
   "execution_count": 35,
   "metadata": {},
   "outputs": [
    {
     "name": "stdout",
     "output_type": "stream",
     "text": [
      "Found 714 images belonging to 2 classes.\n",
      "Epoch 1/5\n",
      "714/714 [==============================] - 27s - loss: 0.4906 - acc: 0.8123 - val_loss: 0.4171 - val_acc: 0.8006\n",
      "Epoch 2/5\n",
      "714/714 [==============================] - 25s - loss: 0.5953 - acc: 0.7829 - val_loss: 0.4059 - val_acc: 0.8202\n",
      "Epoch 3/5\n",
      "714/714 [==============================] - 26s - loss: 0.5134 - acc: 0.7983 - val_loss: 0.4025 - val_acc: 0.8090\n",
      "Epoch 4/5\n",
      "714/714 [==============================] - 26s - loss: 0.5931 - acc: 0.7703 - val_loss: 0.4692 - val_acc: 0.8090\n",
      "Epoch 5/5\n",
      "714/714 [==============================] - 26s - loss: 0.5119 - acc: 0.7997 - val_loss: 0.4894 - val_acc: 0.8062\n"
     ]
    },
    {
     "data": {
      "text/plain": [
       "<keras.callbacks.History at 0x7f1f018f1590>"
      ]
     },
     "execution_count": 35,
     "metadata": {},
     "output_type": "execute_result"
    }
   ],
   "source": [
    "gen_t = image.ImageDataGenerator(rotation_range=30)\n",
    "model.optimizer.lr=0.00001\n",
    "batches = get_batches(DATA_HOME_DIR+'train', gen_t, batch_size=batch_size)\n",
    "model.fit_generator(batches, batches.nb_sample, nb_epoch=5, validation_data=val_batches, \n",
    "                 nb_val_samples=val_batches.nb_sample)"
   ]
  },
  {
   "cell_type": "code",
   "execution_count": 105,
   "metadata": {},
   "outputs": [
    {
     "name": "stdout",
     "output_type": "stream",
     "text": [
      "Found 714 images belonging to 2 classes.\n",
      "Epoch 1/5\n",
      "714/714 [==============================] - 26s - loss: 0.5921 - acc: 0.7759 - val_loss: 0.4356 - val_acc: 0.8090\n",
      "Epoch 2/5\n",
      "714/714 [==============================] - 26s - loss: 0.5242 - acc: 0.8053 - val_loss: 0.4187 - val_acc: 0.8062\n",
      "Epoch 3/5\n",
      "714/714 [==============================] - 25s - loss: 0.5430 - acc: 0.7731 - val_loss: 0.4303 - val_acc: 0.7978\n",
      "Epoch 4/5\n",
      "714/714 [==============================] - 26s - loss: 0.4930 - acc: 0.7955 - val_loss: 0.4453 - val_acc: 0.7949\n",
      "Epoch 5/5\n",
      "714/714 [==============================] - 26s - loss: 0.5663 - acc: 0.7829 - val_loss: 0.4298 - val_acc: 0.7921\n"
     ]
    },
    {
     "data": {
      "text/plain": [
       "<keras.callbacks.History at 0x7f1f0de427d0>"
      ]
     },
     "execution_count": 105,
     "metadata": {},
     "output_type": "execute_result"
    }
   ],
   "source": [
    "gen_t = image.ImageDataGenerator(rotation_range=40)\n",
    "model.optimizer.lr=0.00001\n",
    "batches = get_batches(DATA_HOME_DIR+'train', gen_t, batch_size=batch_size)\n",
    "model.fit_generator(batches, batches.nb_sample, nb_epoch=5, validation_data=val_batches, \n",
    "                 nb_val_samples=val_batches.nb_sample)"
   ]
  },
  {
   "cell_type": "code",
   "execution_count": 106,
   "metadata": {},
   "outputs": [
    {
     "name": "stdout",
     "output_type": "stream",
     "text": [
      "Found 714 images belonging to 2 classes.\n",
      "Epoch 1/5\n",
      "714/714 [==============================] - 26s - loss: 0.4357 - acc: 0.8263 - val_loss: 0.4204 - val_acc: 0.8034\n",
      "Epoch 2/5\n",
      "714/714 [==============================] - 26s - loss: 0.4387 - acc: 0.8207 - val_loss: 0.4083 - val_acc: 0.8174\n",
      "Epoch 3/5\n",
      "714/714 [==============================] - 26s - loss: 0.3531 - acc: 0.8599 - val_loss: 0.4177 - val_acc: 0.8258\n",
      "Epoch 4/5\n",
      "714/714 [==============================] - 25s - loss: 0.4123 - acc: 0.8333 - val_loss: 0.4061 - val_acc: 0.8062\n",
      "Epoch 5/5\n",
      "714/714 [==============================] - 26s - loss: 0.3907 - acc: 0.8459 - val_loss: 0.3850 - val_acc: 0.8230\n"
     ]
    },
    {
     "data": {
      "text/plain": [
       "<keras.callbacks.History at 0x7f1f1891df90>"
      ]
     },
     "execution_count": 106,
     "metadata": {},
     "output_type": "execute_result"
    }
   ],
   "source": [
    "gen_t = image.ImageDataGenerator(height_shift_range=0.05)\n",
    "model.optimizer.lr=0.00001\n",
    "batches = get_batches(DATA_HOME_DIR+'train', gen_t, batch_size=batch_size)\n",
    "model.fit_generator(batches, batches.nb_sample, nb_epoch=5, validation_data=val_batches, \n",
    "                 nb_val_samples=val_batches.nb_sample)"
   ]
  },
  {
   "cell_type": "code",
   "execution_count": null,
   "metadata": {},
   "outputs": [],
   "source": [
    "model.fit_generator(batches, batches.nb_sample, nb_epoch=10, validation_data=val_batches, \n",
    "                 nb_val_samples=val_batches.nb_sample)"
   ]
  },
  {
   "cell_type": "code",
   "execution_count": null,
   "metadata": {
    "collapsed": true
   },
   "outputs": [],
   "source": [
    "model = conv1(batches, 5, 0.001)"
   ]
  },
  {
   "cell_type": "code",
   "execution_count": null,
   "metadata": {},
   "outputs": [],
   "source": [
    "model.optimizer.lr = 0.0001\n",
    "model.fit_generator(batches, batches.nb_sample, nb_epoch=15, validation_data=val_batches, \n",
    "                 nb_val_samples=val_batches.nb_sample)"
   ]
  },
  {
   "cell_type": "markdown",
   "metadata": {},
   "source": [
    "## Four conv/pooling pairs + dropout"
   ]
  },
  {
   "cell_type": "code",
   "execution_count": null,
   "metadata": {},
   "outputs": [],
   "source": [
    "gen_t = image.ImageDataGenerator(rotation_range=15, height_shift_range=0.05, \n",
    "                shear_range=0.1, channel_shift_range=20, width_shift_range=0.1)\n",
    "batches = get_batches(DATA_HOME_DIR+'train', gen_t, batch_size=batch_size)"
   ]
  },
  {
   "cell_type": "code",
   "execution_count": 19,
   "metadata": {
    "collapsed": true
   },
   "outputs": [],
   "source": [
    "model = Sequential([\n",
    "        BatchNormalization(axis=1, input_shape=(3,224,224)),\n",
    "        Convolution2D(32,3,3, activation='relu'),\n",
    "        BatchNormalization(axis=1),\n",
    "        MaxPooling2D(),\n",
    "        Convolution2D(64,3,3, activation='relu'),\n",
    "        BatchNormalization(axis=1),\n",
    "        MaxPooling2D(),\n",
    "        Convolution2D(128,3,3, activation='relu'),\n",
    "        BatchNormalization(axis=1),\n",
    "        MaxPooling2D(),\n",
    "        Flatten(),\n",
    "        Dense(200, activation='relu'),\n",
    "        BatchNormalization(),\n",
    "        Dropout(0.5),\n",
    "        Dense(200, activation='relu'),\n",
    "        BatchNormalization(),\n",
    "        Dropout(0.5),\n",
    "        Dense(2, activation='softmax')\n",
    "    ])"
   ]
  },
  {
   "cell_type": "code",
   "execution_count": 20,
   "metadata": {
    "collapsed": true
   },
   "outputs": [],
   "source": [
    "model.compile(Adam(lr=10e-5), loss='categorical_crossentropy', metrics=['accuracy'])"
   ]
  },
  {
   "cell_type": "code",
   "execution_count": 24,
   "metadata": {
    "collapsed": true
   },
   "outputs": [],
   "source": [
    "model.optimizer.lr=0.0001"
   ]
  },
  {
   "cell_type": "code",
   "execution_count": 25,
   "metadata": {
    "scrolled": true
   },
   "outputs": [
    {
     "name": "stdout",
     "output_type": "stream",
     "text": [
      "Epoch 1/5\n",
      "714/714 [==============================] - 26s - loss: 0.1938 - acc: 0.9188 - val_loss: 0.6796 - val_acc: 0.6067\n",
      "Epoch 2/5\n",
      "714/714 [==============================] - 26s - loss: 0.2443 - acc: 0.9020 - val_loss: 0.6693 - val_acc: 0.6236\n",
      "Epoch 3/5\n",
      "714/714 [==============================] - 26s - loss: 0.2471 - acc: 0.9020 - val_loss: 0.7027 - val_acc: 0.6011\n",
      "Epoch 4/5\n",
      "714/714 [==============================] - 26s - loss: 0.1851 - acc: 0.9314 - val_loss: 0.7346 - val_acc: 0.5899\n",
      "Epoch 5/5\n",
      "714/714 [==============================] - 25s - loss: 0.1977 - acc: 0.9244 - val_loss: 0.7392 - val_acc: 0.5927\n"
     ]
    },
    {
     "data": {
      "text/plain": [
       "<keras.callbacks.History at 0x7f1f02624bd0>"
      ]
     },
     "execution_count": 25,
     "metadata": {},
     "output_type": "execute_result"
    }
   ],
   "source": [
    "model.fit_generator(batches, batches.nb_sample, nb_epoch=5, validation_data=val_batches, \n",
    "                 nb_val_samples=val_batches.nb_sample)"
   ]
  },
  {
   "cell_type": "code",
   "execution_count": 27,
   "metadata": {},
   "outputs": [
    {
     "name": "stdout",
     "output_type": "stream",
     "text": [
      "____________________________________________________________________________________________________\n",
      "Layer (type)                     Output Shape          Param #     Connected to                     \n",
      "====================================================================================================\n",
      "batchnormalization_25 (BatchNorm (None, 3, 224, 224)   12          batchnormalization_input_7[0][0] \n",
      "____________________________________________________________________________________________________\n",
      "convolution2d_13 (Convolution2D) (None, 32, 222, 222)  896         batchnormalization_25[0][0]      \n",
      "____________________________________________________________________________________________________\n",
      "batchnormalization_26 (BatchNorm (None, 32, 222, 222)  128         convolution2d_13[0][0]           \n",
      "____________________________________________________________________________________________________\n",
      "maxpooling2d_13 (MaxPooling2D)   (None, 32, 111, 111)  0           batchnormalization_26[0][0]      \n",
      "____________________________________________________________________________________________________\n",
      "convolution2d_14 (Convolution2D) (None, 64, 109, 109)  18496       maxpooling2d_13[0][0]            \n",
      "____________________________________________________________________________________________________\n",
      "batchnormalization_27 (BatchNorm (None, 64, 109, 109)  256         convolution2d_14[0][0]           \n",
      "____________________________________________________________________________________________________\n",
      "maxpooling2d_14 (MaxPooling2D)   (None, 64, 54, 54)    0           batchnormalization_27[0][0]      \n",
      "____________________________________________________________________________________________________\n",
      "convolution2d_15 (Convolution2D) (None, 128, 52, 52)   73856       maxpooling2d_14[0][0]            \n",
      "____________________________________________________________________________________________________\n",
      "batchnormalization_28 (BatchNorm (None, 128, 52, 52)   512         convolution2d_15[0][0]           \n",
      "____________________________________________________________________________________________________\n",
      "maxpooling2d_15 (MaxPooling2D)   (None, 128, 26, 26)   0           batchnormalization_28[0][0]      \n",
      "____________________________________________________________________________________________________\n",
      "flatten_7 (Flatten)              (None, 86528)         0           maxpooling2d_15[0][0]            \n",
      "____________________________________________________________________________________________________\n",
      "dense_13 (Dense)                 (None, 200)           17305800    flatten_7[0][0]                  \n",
      "____________________________________________________________________________________________________\n",
      "batchnormalization_29 (BatchNorm (None, 200)           800         dense_13[0][0]                   \n",
      "____________________________________________________________________________________________________\n",
      "dropout_1 (Dropout)              (None, 200)           0           batchnormalization_29[0][0]      \n",
      "____________________________________________________________________________________________________\n",
      "dense_14 (Dense)                 (None, 200)           40200       dropout_1[0][0]                  \n",
      "____________________________________________________________________________________________________\n",
      "batchnormalization_30 (BatchNorm (None, 200)           800         dense_14[0][0]                   \n",
      "____________________________________________________________________________________________________\n",
      "dropout_2 (Dropout)              (None, 200)           0           batchnormalization_30[0][0]      \n",
      "____________________________________________________________________________________________________\n",
      "dense_15 (Dense)                 (None, 2)             402         dropout_2[0][0]                  \n",
      "====================================================================================================\n",
      "Total params: 17,442,158\n",
      "Trainable params: 17,440,904\n",
      "Non-trainable params: 1,254\n",
      "____________________________________________________________________________________________________\n"
     ]
    }
   ],
   "source": [
    "model.summary()"
   ]
  },
  {
   "cell_type": "code",
   "execution_count": 21,
   "metadata": {
    "collapsed": true
   },
   "outputs": [],
   "source": [
    "model.optimizer.lr=0.00001"
   ]
  },
  {
   "cell_type": "code",
   "execution_count": 22,
   "metadata": {
    "scrolled": true
   },
   "outputs": [
    {
     "name": "stdout",
     "output_type": "stream",
     "text": [
      "Epoch 1/10\n",
      "714/714 [==============================] - 26s - loss: 1.0764 - acc: 0.6204 - val_loss: 0.9577 - val_acc: 0.4691\n",
      "Epoch 2/10\n",
      "714/714 [==============================] - 25s - loss: 0.8796 - acc: 0.6723 - val_loss: 0.7246 - val_acc: 0.4691\n",
      "Epoch 3/10\n",
      "714/714 [==============================] - 26s - loss: 0.6391 - acc: 0.7353 - val_loss: 0.6819 - val_acc: 0.5562\n",
      "Epoch 4/10\n",
      "714/714 [==============================] - 25s - loss: 0.5948 - acc: 0.7507 - val_loss: 0.6343 - val_acc: 0.7051\n",
      "Epoch 5/10\n",
      "714/714 [==============================] - 26s - loss: 0.5499 - acc: 0.7689 - val_loss: 0.6490 - val_acc: 0.5927\n",
      "Epoch 6/10\n",
      "714/714 [==============================] - 26s - loss: 0.4549 - acc: 0.7983 - val_loss: 0.6855 - val_acc: 0.5309\n",
      "Epoch 7/10\n",
      "714/714 [==============================] - 26s - loss: 0.5083 - acc: 0.8011 - val_loss: 0.6723 - val_acc: 0.5253\n",
      "Epoch 8/10\n",
      "714/714 [==============================] - 25s - loss: 0.4341 - acc: 0.8179 - val_loss: 0.6807 - val_acc: 0.5309\n",
      "Epoch 9/10\n",
      "714/714 [==============================] - 26s - loss: 0.4010 - acc: 0.8333 - val_loss: 0.6481 - val_acc: 0.5393\n",
      "Epoch 10/10\n",
      "714/714 [==============================] - 26s - loss: 0.3256 - acc: 0.8697 - val_loss: 0.6484 - val_acc: 0.5478\n"
     ]
    },
    {
     "data": {
      "text/plain": [
       "<keras.callbacks.History at 0x7f1f2c8b1910>"
      ]
     },
     "execution_count": 22,
     "metadata": {},
     "output_type": "execute_result"
    }
   ],
   "source": [
    "model.fit_generator(batches, batches.nb_sample, nb_epoch=10, validation_data=val_batches, \n",
    "                 nb_val_samples=val_batches.nb_sample)"
   ]
  },
  {
   "cell_type": "markdown",
   "metadata": {},
   "source": [
    "lr 0.001 looks to be too low.  Try a higher value.\n"
   ]
  },
  {
   "cell_type": "code",
   "execution_count": null,
   "metadata": {
    "collapsed": true
   },
   "outputs": [],
   "source": [
    "model.optimizer.lr=0.01"
   ]
  },
  {
   "cell_type": "code",
   "execution_count": null,
   "metadata": {},
   "outputs": [],
   "source": [
    "model.fit_generator(batches, batches.nb_sample, nb_epoch=10, validation_data=val_batches, \n",
    "                 nb_val_samples=val_batches.nb_sample)"
   ]
  },
  {
   "cell_type": "code",
   "execution_count": null,
   "metadata": {
    "scrolled": true
   },
   "outputs": [],
   "source": [
    "model.optimizer.lr = 0.0001\n",
    "model.fit_generator(batches, batches.nb_sample, nb_epoch=10, validation_data=val_batches, \n",
    "                 nb_val_samples=val_batches.nb_sample)"
   ]
  },
  {
   "cell_type": "code",
   "execution_count": null,
   "metadata": {
    "scrolled": true
   },
   "outputs": [],
   "source": [
    "model.optimizer.lr = 0.00001\n",
    "model.fit_generator(batches, batches.nb_sample, nb_epoch=5, validation_data=val_batches, \n",
    "                 nb_val_samples=val_batches.nb_sample)"
   ]
  },
  {
   "cell_type": "markdown",
   "metadata": {},
   "source": [
    "Looks like it bombed."
   ]
  },
  {
   "cell_type": "code",
   "execution_count": null,
   "metadata": {},
   "outputs": [],
   "source": [
    "model.optimizer.lr = 0.0005\n",
    "model.fit_generator(batches, batches.nb_sample, nb_epoch=5, validation_data=val_batches, \n",
    "                 nb_val_samples=val_batches.nb_sample)"
   ]
  },
  {
   "cell_type": "code",
   "execution_count": null,
   "metadata": {},
   "outputs": [],
   "source": [
    "model.optimizer.lr = 0.0001\n",
    "model.fit_generator(batches, batches.nb_sample, nb_epoch=5, validation_data=val_batches, \n",
    "                 nb_val_samples=val_batches.nb_sample)"
   ]
  },
  {
   "cell_type": "markdown",
   "metadata": {},
   "source": [
    "Try non augmented"
   ]
  },
  {
   "cell_type": "markdown",
   "metadata": {},
   "source": [
    "examine score"
   ]
  },
  {
   "cell_type": "code",
   "execution_count": null,
   "metadata": {
    "collapsed": true
   },
   "outputs": [],
   "source": [
    "from keras.preprocessing import image\n",
    "\n",
    "#Helper function to plot images by index in the validation set \n",
    "#Plots is a helper function in utils.py\n",
    "def plots_idx(idx, titles=None):\n",
    "    plots([image.load_img(valid_path + filenames[i]) for i in idx], titles=titles)\n",
    "    \n",
    "#Number of images to view for each visualization task\n",
    "n_view = 4"
   ]
  },
  {
   "cell_type": "code",
   "execution_count": null,
   "metadata": {},
   "outputs": [],
   "source": [
    "valid_path=DATA_HOME_DIR + '/valid/'\n",
    "test_batches = get_batches(valid_path, shuffle=False, batch_size=batch_size, class_mode=None)\n",
    "val_batches, probs =  test_batches, model.predict_generator(test_batches, test_batches.nb_sample)"
   ]
  },
  {
   "cell_type": "code",
   "execution_count": null,
   "metadata": {
    "collapsed": true
   },
   "outputs": [],
   "source": [
    "filenames = val_batches.filenames\n",
    "expected_labels = val_batches.classes #0 or 1\n",
    "\n",
    "#Round our predictions to 0/1 to generate labels\n",
    "our_predictions = probs[:,0]\n",
    "our_labels = np.round(1-our_predictions)"
   ]
  },
  {
   "cell_type": "code",
   "execution_count": null,
   "metadata": {
    "scrolled": true
   },
   "outputs": [],
   "source": [
    "#1. A few correct labels at random\n",
    "correct = np.where(our_labels==expected_labels)[0]\n",
    "print \"Found %d correct labels\" % len(correct)\n",
    "idx = permutation(correct)[:n_view]\n",
    "plots_idx(idx, our_predictions[idx])"
   ]
  },
  {
   "cell_type": "code",
   "execution_count": null,
   "metadata": {},
   "outputs": [],
   "source": [
    "#2. A few incorrect labels at random\n",
    "incorrect = np.where(our_labels!=expected_labels)[0]\n",
    "print \"Found %d incorrect labels\" % len(incorrect)\n",
    "idx = permutation(incorrect)[:n_view]\n",
    "plots_idx(idx, our_predictions[idx])"
   ]
  },
  {
   "cell_type": "code",
   "execution_count": null,
   "metadata": {},
   "outputs": [],
   "source": [
    "#3a. The images we most confident were ships, and are actually ships\n",
    "correct_ships = np.where((our_labels==0) & (our_labels==expected_labels))[0]\n",
    "print \"Found %d confident correct ship labels\" % len(correct_ships)\n",
    "most_correct_ships = np.argsort(our_predictions[correct_ships])[::-1][:n_view]\n",
    "plots_idx(correct_ships[most_correct_ships], our_predictions[correct_ships][most_correct_ships])"
   ]
  },
  {
   "cell_type": "code",
   "execution_count": null,
   "metadata": {},
   "outputs": [],
   "source": [
    "#3b. The images we most confident were dogs, and are actually dogs\n",
    "correct_iceberg = np.where((our_labels==1) & (our_labels==expected_labels))[0]\n",
    "print \"Found %d confident correct iceberg labels\" % len(correct_iceberg)\n",
    "most_correct_iceberg = np.argsort(our_predictions[correct_iceberg])[:n_view]\n",
    "plots_idx(correct_iceberg[most_correct_iceberg], our_predictions[correct_iceberg][most_correct_iceberg])"
   ]
  },
  {
   "cell_type": "code",
   "execution_count": null,
   "metadata": {},
   "outputs": [],
   "source": [
    "#4a. The images we were most confident were ships, but are actually icebergs\n",
    "incorrect_ships = np.where((our_labels==0) & (our_labels!=expected_labels))[0]\n",
    "print \"Found %d incorrect ships\" % len(incorrect_ships)\n",
    "if len(incorrect_ships):\n",
    "    most_incorrect_ships = np.argsort(our_predictions[incorrect_ships])[::-1][:n_view]\n",
    "    plots_idx(incorrect_ships[most_incorrect_ships], our_predictions[incorrect_ships][most_incorrect_ships])"
   ]
  },
  {
   "cell_type": "code",
   "execution_count": null,
   "metadata": {},
   "outputs": [],
   "source": [
    "#4b. The images we were most confident were dogs, but are actually cats\n",
    "incorrect_iceberg = np.where((our_labels==1) & (our_labels!=expected_labels))[0]\n",
    "print \"Found %d incorrect icebergs\" % len(incorrect_iceberg)\n",
    "if len(incorrect_iceberg):\n",
    "    most_incorrect_iceberg = np.argsort(our_predictions[incorrect_iceberg])[:n_view]\n",
    "    plots_idx(incorrect_iceberg[most_incorrect_iceberg], our_predictions[incorrect_iceberg][most_incorrect_iceberg])"
   ]
  },
  {
   "cell_type": "code",
   "execution_count": null,
   "metadata": {
    "collapsed": true
   },
   "outputs": [],
   "source": [
    "from sklearn.metrics import confusion_matrix\n",
    "cm = confusion_matrix(expected_labels, our_labels)"
   ]
  },
  {
   "cell_type": "code",
   "execution_count": null,
   "metadata": {
    "scrolled": true
   },
   "outputs": [],
   "source": [
    "plot_confusion_matrix(cm, val_batches.class_indices)"
   ]
  },
  {
   "cell_type": "code",
   "execution_count": null,
   "metadata": {
    "collapsed": true
   },
   "outputs": [],
   "source": [
    "#Visualize Log Loss when True value = 1\n",
    "#y-axis is log loss, x-axis is probabilty that label = 1\n",
    "#As you can see Log Loss increases rapidly as we approach 0\n",
    "#But increases slowly as our predicted probability gets closer to 1\n",
    "import matplotlib.pyplot as plt\n",
    "import numpy as np\n",
    "from sklearn.metrics import log_loss\n",
    "\n",
    "x = [i*.0001 for i in range(1,10000)]\n",
    "y = [log_loss([1],[[i*.0001,1-(i*.0001)]],eps=1e-15) for i in range(1,10000,1)]\n",
    "\n",
    "plt.plot(x, y)\n",
    "plt.axis([-.05, 1.1, -.8, 10])\n",
    "plt.title(\"Log Loss when true label = 1\")\n",
    "plt.xlabel(\"predicted probability\")\n",
    "plt.ylabel(\"log loss\")\n",
    "\n",
    "plt.show()"
   ]
  },
  {
   "cell_type": "markdown",
   "metadata": {},
   "source": [
    "try shallower network"
   ]
  },
  {
   "cell_type": "code",
   "execution_count": null,
   "metadata": {
    "collapsed": true
   },
   "outputs": [],
   "source": [
    "model = Sequential([\n",
    "    BatchNormalization(axis=1, input_shape=(3, 224, 224)),\n",
    "    Convolution2D(32,3,3, activation='relu'),\n",
    "    BatchNormalization(axis=1),\n",
    "    MaxPooling2D((3,3)),\n",
    "    Convolution2D(64,3,3, activation='relu'),\n",
    "    BatchNormalization(axis=1),\n",
    "    MaxPooling2D((3,3)),\n",
    "    Flatten(),\n",
    "    Dense(200, activation='relu'),\n",
    "    BatchNormalization(),\n",
    "    Dense(2, activation='softmax')\n",
    "])\n",
    "model.compile(Adam(lr=10e-5), loss='categorical_crossentropy', metrics=['accuracy'])"
   ]
  },
  {
   "cell_type": "code",
   "execution_count": null,
   "metadata": {},
   "outputs": [],
   "source": [
    "model.optimizer.lr = 0.001\n",
    "model.fit_generator(batches, batches.nb_sample, nb_epoch=5, validation_data=val_batches, \n",
    "                 nb_val_samples=val_batches.nb_sample)"
   ]
  },
  {
   "cell_type": "code",
   "execution_count": null,
   "metadata": {
    "collapsed": true
   },
   "outputs": [],
   "source": [
    "batches = get_batches(DATA_HOME_DIR+'train', batch_size=batch_size)\n",
    "val_batches = get_batches(DATA_HOME_DIR+'valid', batch_size=batch_size*2, shuffle=False)\n",
    "model.optimizer.lr = 0.0001\n",
    "model.fit_generator(batches, batches.nb_sample, nb_epoch=10, validation_data=val_batches, \n",
    "                 nb_val_samples=val_batches.nb_sample)"
   ]
  },
  {
   "cell_type": "markdown",
   "metadata": {},
   "source": [
    "## Testing"
   ]
  },
  {
   "cell_type": "code",
   "execution_count": 39,
   "metadata": {
    "collapsed": true
   },
   "outputs": [],
   "source": [
    "def test(path, batch_size=8):\n",
    "    test_batches = get_batches(path, shuffle=False, batch_size=batch_size, class_mode=None)\n",
    "    return test_batches, model.predict_generator(test_batches, test_batches.nb_sample)"
   ]
  },
  {
   "cell_type": "code",
   "execution_count": 40,
   "metadata": {},
   "outputs": [
    {
     "name": "stdout",
     "output_type": "stream",
     "text": [
      "Found 8424 images belonging to 1 classes.\n"
     ]
    }
   ],
   "source": [
    "test_path = DATA_HOME_DIR + '/test/' #We use all the test data\n",
    "batches, preds = test(test_path, batch_size = batch_size*2)\n"
   ]
  },
  {
   "cell_type": "code",
   "execution_count": 78,
   "metadata": {},
   "outputs": [
    {
     "data": {
      "text/plain": [
       "numpy.float32"
      ]
     },
     "execution_count": 78,
     "metadata": {},
     "output_type": "execute_result"
    }
   ],
   "source": [
    "type(preds[0,1])"
   ]
  },
  {
   "cell_type": "code",
   "execution_count": 48,
   "metadata": {
    "scrolled": true
   },
   "outputs": [
    {
     "data": {
      "text/plain": [
       "array([[  6.0310e-03,   9.9397e-01],\n",
       "       [  2.4804e-04,   9.9975e-01]], dtype=float32)"
      ]
     },
     "execution_count": 48,
     "metadata": {},
     "output_type": "execute_result"
    }
   ],
   "source": [
    "preds[:2,]"
   ]
  },
  {
   "cell_type": "code",
   "execution_count": 49,
   "metadata": {},
   "outputs": [
    {
     "name": "stdout",
     "output_type": "stream",
     "text": [
      "Raw Predictions: [  9.9397e-01   9.9975e-01   9.9944e-01   7.5562e-04   5.7040e-04]\n",
      "Mid Predictions: [ 0.562   0.5594  0.5219  0.5294  0.5364  0.5663  0.4744  0.5196  0.4692  0.4067  0.4637  0.4595\n",
      "  0.5891  0.5718  0.4151  0.484   0.5953  0.4148  0.4656  0.4448  0.5736  0.4382  0.5124  0.5722\n",
      "  0.4906  0.5401  0.4833  0.4232  0.44    0.5628  0.4801  0.5498  0.5017  0.5254  0.5916  0.4897\n",
      "  0.4402  0.5505  0.539   0.5741  0.4264  0.5308  0.4899  0.5041  0.582   0.5816  0.5456  0.4629\n",
      "  0.4762  0.5095  0.4378  0.5703  0.4399  0.5497  0.5119  0.4326  0.454   0.4097  0.5162  0.5644\n",
      "  0.4236  0.5849  0.5819  0.5384  0.5451  0.5432  0.4563  0.5517  0.5838  0.5932  0.567   0.4933\n",
      "  0.5008  0.4603  0.5793  0.5656  0.5551  0.4689  0.4072  0.4301  0.4878  0.4162  0.4622  0.4745\n",
      "  0.5453  0.4033  0.5798  0.4745  0.5333  0.4876  0.4269  0.4468  0.5801  0.4061  0.5845  0.5092\n",
      "  0.427   0.5797  0.4486  0.4315  0.4456  0.5498  0.4057  0.4016  0.581   0.4106  0.4415  0.4059\n",
      "  0.5365  0.5759  0.5021  0.4047  0.4986  0.4159  0.4534  0.4645  0.4599  0.4551  0.4149  0.536\n",
      "  0.469   0.5844  0.5772  0.5457  0.4344  0.412   0.5477  0.5543  0.5879  0.5812  0.521   0.4345\n",
      "  0.4807  0.5519  0.5255  0.5863  0.5263  0.4558  0.4448  0.5673  0.5622  0.445   0.4389  0.475\n",
      "  0.561   0.5829  0.546   0.4419  0.5822  0.5449  0.5024  0.4993  0.4787  0.4576  0.4237  0.5944\n",
      "  0.5623  0.455   0.5084  0.5099  0.4038  0.4369  0.5542  0.5559  0.4901  0.4862  0.4321  0.4831\n",
      "  0.5865  0.5779  0.5636  0.4145  0.5799  0.5931  0.4176  0.5585  0.4907  0.5582  0.4448  0.5925\n",
      "  0.4962  0.4469  0.5191  0.4284  0.5594  0.5758  0.494   0.5969  0.5652  0.5177  0.4453  0.4249\n",
      "  0.4906  0.5247  0.5527  0.4314  0.5055  0.5853  0.4049  0.5283  0.5712  0.5398  0.4476  0.5436\n",
      "  0.5283  0.5765  0.5387  0.5734  0.5814  0.5092  0.5329  0.5072  0.4718  0.456   0.4824  0.5202\n",
      "  0.5981  0.4954  0.5836  0.5035  0.561   0.4436  0.4194  0.4072  0.4363  0.5228  0.4783  0.5011\n",
      "  0.557   0.5296  0.4538  0.5633  0.4192  0.5358  0.5551  0.5603  0.4579  0.5338  0.4517  0.595\n",
      "  0.4025  0.5844  0.5039  0.4685  0.5277  0.409   0.4899  0.4545  0.5847  0.5125  0.5101  0.4544\n",
      "  0.4222  0.4252  0.5388  0.4969  0.5807  0.5189  0.5283  0.406   0.4289  0.5533  0.5281  0.4686\n",
      "  0.5853  0.464   0.4471  0.5961  0.4896  0.5902  0.4684  0.5978  0.5447  0.4591  0.4896  0.5718\n",
      "  0.529   0.4717  0.5487  0.4199  0.4098  0.574   0.5171  0.4037  0.5127  0.5235  0.5394  0.53\n",
      "  0.5552  0.4208  0.4731  0.5989  0.4279  0.5602  0.491   0.5111  0.4492  0.5363  0.4919  0.4412\n",
      "  0.5594  0.4319  0.5832  0.4154  0.433   0.5999  0.488   0.4958  0.4978  0.418   0.5732  0.4222\n",
      "  0.4129  0.4021  0.5412  0.4995  0.43    0.4835  0.4348  0.5332  0.5668  0.4774  0.5522  0.4077\n",
      "  0.5597  0.4783  0.475   0.5548  0.4009  0.411   0.4128  0.4982  0.4652  0.5386  0.4385  0.5318\n",
      "  0.4542  0.5134  0.5407  0.468   0.4923  0.482   0.5002  0.511   0.5594  0.5192  0.5912  0.4868\n",
      "  0.5905  0.4323  0.5517  0.5698  0.4964  0.407   0.4124  0.4659  0.4271  0.45    0.579   0.5788\n",
      "  0.5358  0.5149  0.4277  0.4378  0.4791  0.5264  0.5602  0.4311  0.5776  0.5793  0.5105  0.4207\n",
      "  0.4393  0.5806  0.4449  0.5488  0.4799  0.4852  0.5747  0.5753  0.5357  0.5083  0.5268  0.4744\n",
      "  0.4164  0.5007  0.581   0.5653  0.4323  0.4703  0.5967  0.4947  0.4904  0.4925  0.4626  0.5683\n",
      "  0.5164  0.5592  0.5249  0.5294  0.5094  0.5078  0.5492  0.4996  0.5055  0.537   0.4056  0.5174\n",
      "  0.5439  0.5222  0.5713  0.5538  0.5702  0.5396  0.4174  0.4472  0.4548  0.5681  0.5279  0.4473\n",
      "  0.5141  0.431   0.4953  0.5626  0.5322  0.4611  0.5369  0.4217  0.5993  0.5187  0.4784  0.479\n",
      "  0.4784  0.4606  0.528   0.5457  0.4491  0.4215  0.4069  0.4504  0.5914  0.4461  0.4622  0.499\n",
      "  0.5676  0.4024  0.4849  0.5164  0.431   0.4932  0.5179  0.5158  0.4792  0.4203  0.4991  0.5376\n",
      "  0.5498  0.4293  0.5943  0.5263  0.4679  0.5171  0.4247  0.4632  0.5332  0.411   0.4248  0.418\n",
      "  0.5008  0.5773  0.5691  0.4069  0.4088  0.4875  0.4726  0.5631  0.5143  0.5836  0.409   0.4467\n",
      "  0.4072  0.4618  0.4274  0.4327  0.4672  0.4898  0.591   0.5856  0.5653  0.5355  0.5429  0.4431\n",
      "  0.5666  0.4158  0.5194  0.5927  0.4457  0.5661  0.4198  0.4958  0.4088  0.5624  0.5348  0.4761\n",
      "  0.5277  0.5196  0.5931  0.5215  0.5912  0.5442  0.416   0.5432  0.4732  0.4609  0.5687  0.4401\n",
      "  0.5567  0.5099  0.4904  0.5394  0.5929  0.5369  0.5648  0.5956  0.4274  0.5835  0.4096  0.5192\n",
      "  0.4891  0.5805  0.4937  0.4883  0.4106  0.4333  0.4867  0.4714  0.4759  0.4442  0.41    0.5255\n",
      "  0.5418  0.4469  0.5394  0.5217  0.5158  0.586   0.5268  0.431   0.472   0.5476  0.5506  0.5201\n",
      "  0.5529  0.5876  0.5705  0.5986]\n",
      "Edge Predictions: []\n"
     ]
    }
   ],
   "source": [
    "#Grab the dog prediction column\n",
    "isiceberg = preds[:,1]\n",
    "print \"Raw Predictions: \" + str(isiceberg[:5])\n",
    "print \"Mid Predictions: \" + str(isiceberg[(isiceberg < .6) & (isiceberg > .4)])\n",
    "print \"Edge Predictions: \" + str(isiceberg[(isiceberg == 1) | (isiceberg == 0)])"
   ]
  },
  {
   "cell_type": "code",
   "execution_count": 108,
   "metadata": {},
   "outputs": [
    {
     "data": {
      "text/plain": [
       "numpy.float32"
      ]
     },
     "execution_count": 108,
     "metadata": {},
     "output_type": "execute_result"
    }
   ],
   "source": [
    "type(isiceberg[0])"
   ]
  },
  {
   "cell_type": "code",
   "execution_count": 109,
   "metadata": {
    "collapsed": true
   },
   "outputs": [],
   "source": [
    "#So to play it safe, we use a sneaky trick to round down our edge predictions\n",
    "#Swap all ones with .95 and all zeros with .05\n",
    "isiceberg = isiceberg.clip(min=0.15, max=0.85)"
   ]
  },
  {
   "cell_type": "code",
   "execution_count": 110,
   "metadata": {},
   "outputs": [],
   "source": [
    "#Extract imageIds from the filenames in our test/unknown directory \n",
    "filenames = batches.filenames\n",
    "#ids = np.array([int(f[8:f.find('.')]) for f in filenames])"
   ]
  },
  {
   "cell_type": "code",
   "execution_count": 111,
   "metadata": {},
   "outputs": [
    {
     "data": {
      "text/plain": [
       "'f1188'"
      ]
     },
     "execution_count": 111,
     "metadata": {},
     "output_type": "execute_result"
    }
   ],
   "source": [
    "filenames[0].split('/')[1].split('.')[0]"
   ]
  },
  {
   "cell_type": "code",
   "execution_count": 112,
   "metadata": {},
   "outputs": [],
   "source": [
    "ids = [f.split('/')[1].split('.')[0] for f in filenames]"
   ]
  },
  {
   "cell_type": "code",
   "execution_count": 114,
   "metadata": {},
   "outputs": [
    {
     "ename": "ValueError",
     "evalue": "all input arrays must have the same shape",
     "output_type": "error",
     "traceback": [
      "\u001b[0;31m---------------------------------------------------------------------------\u001b[0m",
      "\u001b[0;31mValueError\u001b[0m                                Traceback (most recent call last)",
      "\u001b[0;32m<ipython-input-114-a9e27f17b6af>\u001b[0m in \u001b[0;36m<module>\u001b[0;34m()\u001b[0m\n\u001b[0;32m----> 1\u001b[0;31m \u001b[0msubm\u001b[0m \u001b[0;34m=\u001b[0m \u001b[0mnp\u001b[0m\u001b[0;34m.\u001b[0m\u001b[0mstack\u001b[0m\u001b[0;34m(\u001b[0m\u001b[0;34m[\u001b[0m\u001b[0mids\u001b[0m\u001b[0;34m,\u001b[0m\u001b[0misiceberg\u001b[0m\u001b[0;34m]\u001b[0m\u001b[0;34m,\u001b[0m \u001b[0maxis\u001b[0m\u001b[0;34m=\u001b[0m\u001b[0;36m1\u001b[0m\u001b[0;34m)\u001b[0m\u001b[0;34m\u001b[0m\u001b[0m\n\u001b[0m\u001b[1;32m      2\u001b[0m \u001b[0msubm\u001b[0m\u001b[0;34m[\u001b[0m\u001b[0;34m:\u001b[0m\u001b[0;36m5\u001b[0m\u001b[0;34m]\u001b[0m\u001b[0;34m\u001b[0m\u001b[0m\n",
      "\u001b[0;32m/home/msadmin/anaconda2/lib/python2.7/site-packages/numpy/core/shape_base.pyc\u001b[0m in \u001b[0;36mstack\u001b[0;34m(arrays, axis)\u001b[0m\n\u001b[1;32m    345\u001b[0m     \u001b[0mshapes\u001b[0m \u001b[0;34m=\u001b[0m \u001b[0mset\u001b[0m\u001b[0;34m(\u001b[0m\u001b[0marr\u001b[0m\u001b[0;34m.\u001b[0m\u001b[0mshape\u001b[0m \u001b[0;32mfor\u001b[0m \u001b[0marr\u001b[0m \u001b[0;32min\u001b[0m \u001b[0marrays\u001b[0m\u001b[0;34m)\u001b[0m\u001b[0;34m\u001b[0m\u001b[0m\n\u001b[1;32m    346\u001b[0m     \u001b[0;32mif\u001b[0m \u001b[0mlen\u001b[0m\u001b[0;34m(\u001b[0m\u001b[0mshapes\u001b[0m\u001b[0;34m)\u001b[0m \u001b[0;34m!=\u001b[0m \u001b[0;36m1\u001b[0m\u001b[0;34m:\u001b[0m\u001b[0;34m\u001b[0m\u001b[0m\n\u001b[0;32m--> 347\u001b[0;31m         \u001b[0;32mraise\u001b[0m \u001b[0mValueError\u001b[0m\u001b[0;34m(\u001b[0m\u001b[0;34m'all input arrays must have the same shape'\u001b[0m\u001b[0;34m)\u001b[0m\u001b[0;34m\u001b[0m\u001b[0m\n\u001b[0m\u001b[1;32m    348\u001b[0m \u001b[0;34m\u001b[0m\u001b[0m\n\u001b[1;32m    349\u001b[0m     \u001b[0mresult_ndim\u001b[0m \u001b[0;34m=\u001b[0m \u001b[0marrays\u001b[0m\u001b[0;34m[\u001b[0m\u001b[0;36m0\u001b[0m\u001b[0;34m]\u001b[0m\u001b[0;34m.\u001b[0m\u001b[0mndim\u001b[0m \u001b[0;34m+\u001b[0m \u001b[0;36m1\u001b[0m\u001b[0;34m\u001b[0m\u001b[0m\n",
      "\u001b[0;31mValueError\u001b[0m: all input arrays must have the same shape"
     ]
    }
   ],
   "source": [
    "subm = np.stack([ids,isiceberg], axis=1)\n",
    "subm[:5]"
   ]
  },
  {
   "cell_type": "code",
   "execution_count": 115,
   "metadata": {},
   "outputs": [
    {
     "data": {
      "text/plain": [
       "numpy.string_"
      ]
     },
     "execution_count": 115,
     "metadata": {},
     "output_type": "execute_result"
    }
   ],
   "source": [
    "type(subm[0,1])"
   ]
  },
  {
   "cell_type": "code",
   "execution_count": 116,
   "metadata": {},
   "outputs": [
    {
     "name": "stdout",
     "output_type": "stream",
     "text": [
      "/home/msadmin/courses/deeplearning1/nbs/data/iceberg/data/results\n"
     ]
    }
   ],
   "source": [
    "%cd $DATA_HOME_DIR/results\n",
    "submission_file_name = 'submission1.csv'\n",
    "np.savetxt(submission_file_name, subm, fmt='%s,%s', header='id,is_iceberg', comments='')\n",
    "#np.savetxt(submission_file_name, subm, header='id,label', comments='')"
   ]
  },
  {
   "cell_type": "code",
   "execution_count": 117,
   "metadata": {},
   "outputs": [
    {
     "name": "stdout",
     "output_type": "stream",
     "text": [
      "/home/msadmin/courses/deeplearning1/nbs/data/iceberg\n"
     ]
    },
    {
     "data": {
      "text/html": [
       "<a href='data/results/submission1.csv' target='_blank'>data/results/submission1.csv</a><br>"
      ],
      "text/plain": [
       "/home/msadmin/courses/deeplearning1/nbs/data/iceberg/data/results/submission1.csv"
      ]
     },
     "execution_count": 117,
     "metadata": {},
     "output_type": "execute_result"
    }
   ],
   "source": [
    "from IPython.display import FileLink\n",
    "%cd $LESSON_HOME_DIR\n",
    "FileLink('data/results/' + submission_file_name)"
   ]
  },
  {
   "cell_type": "code",
   "execution_count": null,
   "metadata": {
    "collapsed": true
   },
   "outputs": [],
   "source": []
  }
 ],
 "metadata": {
  "kernelspec": {
   "display_name": "Python [conda root]",
   "language": "python",
   "name": "conda-root-py"
  },
  "language_info": {
   "codemirror_mode": {
    "name": "ipython",
    "version": 2
   },
   "file_extension": ".py",
   "mimetype": "text/x-python",
   "name": "python",
   "nbconvert_exporter": "python",
   "pygments_lexer": "ipython2",
   "version": "2.7.14"
  }
 },
 "nbformat": 4,
 "nbformat_minor": 2
}
